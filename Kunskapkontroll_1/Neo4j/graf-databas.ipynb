{
 "cells": [
  {
   "cell_type": "code",
   "execution_count": 1,
   "metadata": {},
   "outputs": [
    {
     "name": "stdout",
     "output_type": "stream",
     "text": [
      "Anslutning till Neo4j fungerar!\n"
     ]
    },
    {
     "data": {
      "text/plain": [
       "True"
      ]
     },
     "execution_count": 1,
     "metadata": {},
     "output_type": "execute_result"
    }
   ],
   "source": [
    "from neo4j import GraphDatabase\n",
    "import pandas as pd\n",
    "import csv\n",
    "import json\n",
    "\n",
    "uri = \"neo4j+s://b12269b4.databases.neo4j.io\"\n",
    "driver = GraphDatabase.driver(uri, auth=(\"neo4j\",\"gQKq-ohMlV4pVgXMLtkpPYkryQ2q7-zRlaP5fNKX744\"))\n",
    "\n",
    "\n",
    "#Had to check the connection, took this from chatgtp\n",
    "def ping_neo4j():\n",
    "    try:\n",
    "        driver = GraphDatabase.driver(uri, auth=(\"neo4j\", \"gQKq-ohMlV4pVgXMLtkpPYkryQ2q7-zRlaP5fNKX744\"))\n",
    "        with driver.session() as session:\n",
    "            # En enkel Cypher-fråga för att testa anslutningen\n",
    "            result = session.run(\"RETURN 1 AS ping\")\n",
    "            for record in result:\n",
    "                if record[\"ping\"] == 1:\n",
    "                    print(\"Anslutning till Neo4j fungerar!\")\n",
    "                    return True\n",
    "        print(\"Anslutning misslyckades!\")\n",
    "        return False\n",
    "    except Exception as e:\n",
    "        print(f\"Fel vid anslutning: {e}\")\n",
    "        return False\n",
    "    finally:\n",
    "        driver.close()\n",
    "\n",
    "ping_neo4j()"
   ]
  },
  {
   "cell_type": "code",
   "execution_count": 2,
   "metadata": {},
   "outputs": [],
   "source": [
    "with open('C:/Users/theod/OneDrive/Skrivbord/Tuc/VSCode/Databastyper/Kunskapkontroll_1/Neo4j/prepared/movies.json', encoding='utf-8') as inputfile:\n",
    "    df_movies = pd.read_json(inputfile)\n",
    "\n",
    "df_movies.to_csv('C:/Users/theod/OneDrive/Skrivbord/Tuc/VSCode/Databastyper/Kunskapkontroll_1/Neo4j/prepared/movies.csv', encoding='utf-8', index=False)"
   ]
  },
  {
   "cell_type": "code",
   "execution_count": 9,
   "metadata": {},
   "outputs": [
    {
     "name": "stderr",
     "output_type": "stream",
     "text": [
      "c:\\Users\\theod\\anaconda3\\Lib\\site-packages\\pandas\\core\\dtypes\\cast.py:1057: RuntimeWarning: invalid value encountered in cast\n",
      "  if (arr.astype(int) == arr).all():\n",
      "c:\\Users\\theod\\anaconda3\\Lib\\site-packages\\pandas\\core\\dtypes\\cast.py:1081: RuntimeWarning: invalid value encountered in cast\n",
      "  if (arr.astype(int) == arr).all():\n"
     ]
    }
   ],
   "source": [
    "new_df = df_movies.convert_dtypes()\n",
    "\n",
    "columns_to_remove = [\n",
    "    'num_critic_for_reviews', 'gross', 'num_voted_users', 'facenumber_in_poster', 'plot_keywords',\n",
    "    'budget', 'title_year', 'aspect_ratio','movie_imdb_link','num_user_for_reviews']\n",
    "\n",
    "columns_to_remove = [col for col in columns_to_remove if col in new_df.columns]\n",
    "if columns_to_remove:\n",
    "    new_df = new_df.drop(columns=columns_to_remove)\n",
    "# new_df"
   ]
  },
  {
   "cell_type": "code",
   "execution_count": 10,
   "metadata": {},
   "outputs": [],
   "source": [
    "actor_df = new_df.explode('actors')\n",
    "actor_df[['actors', 'movie_id', 'movie_title']].to_csv('actors_movies.csv', index=False)\n",
    "# actor_df.head()"
   ]
  },
  {
   "cell_type": "markdown",
   "metadata": {},
   "source": [
    "MATCH (a:Actors)\n",
    "MATCH (m:Movies)\n",
    "WHERE a.movie_title = m.movie_title\n",
    "MERGE (a)-[:ACTED_IN]->(m);"
   ]
  },
  {
   "cell_type": "code",
   "execution_count": 11,
   "metadata": {},
   "outputs": [],
   "source": [
    "genre_df = new_df.explode('genres')\n",
    "genre_df[['genres', 'movie_id','movie_title']].to_csv('genres_movies.csv', index=False)\n",
    "# genre_df.head()"
   ]
  },
  {
   "cell_type": "markdown",
   "metadata": {},
   "source": [
    "MATCH (g:Genre)\n",
    "MATCH (m:Movies)\n",
    "WHERE g.movie_title = m.movie_title\n",
    "MERGE (g)-[:HAS_GENRE]->(m);"
   ]
  },
  {
   "cell_type": "markdown",
   "metadata": {},
   "source": [
    "MATCH (g:Genre)-[:HAS_GENRE]->(m:Movies)\n",
    "WITH m, collect(g.genres) AS genre_combination\n",
    "RETURN genre_combination, count(*) AS count\n",
    "ORDER BY count DESC LIMIT 10;\n",
    "\n",
    "MATCH (g:Genre)-[:HAS_GENRE]->(m:Movies)\n",
    "WITH m, collect(g.genres) AS genre_combination\n",
    "WHERE m.movie_title = m.movie_title\n",
    "RETURN genre_combination, count(*) AS count\n",
    "ORDER BY count DESC;"
   ]
  },
  {
   "cell_type": "code",
   "execution_count": 13,
   "metadata": {},
   "outputs": [],
   "source": [
    "directors_df = new_df.explode('director_name')\n",
    "genre_df[['director_name', 'movie_id','movie_title', 'duration']].to_csv('director_name_movies.csv', index=False)\n",
    "#directors_df.head()"
   ]
  },
  {
   "cell_type": "markdown",
   "metadata": {},
   "source": [
    "DIRECTED\n",
    "MATCH (d:Director)\n",
    "MATCH (m:Movies)\n",
    "WHERE d.movie_id = m.movie_id\n",
    "MERGE (d)-[:DIRECTED]->(m);"
   ]
  },
  {
   "cell_type": "code",
   "execution_count": 14,
   "metadata": {},
   "outputs": [],
   "source": [
    "movie_titles_df = new_df.explode('movie_title')\n",
    "genre_df[['movie_id','movie_title', 'director_name','duration']].to_csv('movie_title_movies.csv', index=False)\n",
    "# movie_titles_df.head()"
   ]
  },
  {
   "cell_type": "markdown",
   "metadata": {},
   "source": [
    "när du kommer till the lord of rings samma probles som tidigare uppgift med blanksteg i titlen."
   ]
  },
  {
   "cell_type": "markdown",
   "metadata": {},
   "source": [
    "MATCH (m:Movies) WHERE m.movie_title =~ \"The Lord of the Rings: The Fellowship of the Ring.\" OR m.movie_title =~ \"The Lord of the Rings: The Two Towers.\" OR m.movie_title =~ \"The Lord of the Rings: The Return of the King.*\" MERGE (a:Actors {actors: \"Viggo Mortensen\"}) MERGE (a)-[:ACTED_IN]->(m);"
   ]
  }
 ],
 "metadata": {
  "kernelspec": {
   "display_name": "base",
   "language": "python",
   "name": "python3"
  },
  "language_info": {
   "codemirror_mode": {
    "name": "ipython",
    "version": 3
   },
   "file_extension": ".py",
   "mimetype": "text/x-python",
   "name": "python",
   "nbconvert_exporter": "python",
   "pygments_lexer": "ipython3",
   "version": "3.12.7"
  }
 },
 "nbformat": 4,
 "nbformat_minor": 2
}
