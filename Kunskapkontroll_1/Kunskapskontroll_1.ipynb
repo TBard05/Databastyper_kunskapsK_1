{
 "cells": [
  {
   "cell_type": "markdown",
   "metadata": {},
   "source": [
    "\n",
    "# Kunskapskontroll 1"
   ]
  },
  {
   "cell_type": "markdown",
   "metadata": {},
   "source": [
    "\n",
    "### Databastyper"
   ]
  },
  {
   "cell_type": "markdown",
   "metadata": {},
   "source": [
    "1. Förklara övergripande vad NoSQL är.\n",
    "\n",
    "Svar: NoSQL är en databas där datan lagras på ett annat sätt än i tabellform som man gör i relationsdatabaser. Den är avsedd för lite mer \"råare\" former av data såsom JSON eller dokument. "
   ]
  },
  {
   "cell_type": "markdown",
   "metadata": {},
   "source": [
    "------------------------------------------------------------------------------------------------------------------------"
   ]
  },
  {
   "cell_type": "markdown",
   "metadata": {},
   "source": [
    "2. Vilken typ av data kan en NoSQL-databas hantera som inte en relationell databas kan?\n",
    "\n",
    "Svar: Det finns rätt mycket en NoSQL kan hantera kontra en realtionell databas, Hierarkiska och Nestade Strukturer JSON & BSON, Sora mängder data såsom realtidsdata och IoT-data, Semistruktuerad och ostruktuerad data t.ex. \n",
    "\n",
    "Semistruktuerad = loggfiler & sensordata \n",
    "Ostruktuerad = ljudfiler & bilder"
   ]
  },
  {
   "cell_type": "markdown",
   "metadata": {},
   "source": [
    "------------------------------------------------------------------------------------------------------------------------"
   ]
  },
  {
   "cell_type": "markdown",
   "metadata": {},
   "source": [
    "3. Beskriv kortfattat vad en nyckel/värde-databas är.\n",
    "\n",
    "Svar: En nyckel-värde databas är en NoSQl databas som hantera värden kopplade till nycklar där nycklarna är unika men värderna behöver inte vara det t.ex \n",
    "\n",
    "(\n",
    "    \"19990101-1234\",\n",
    "    mapping ={\n",
    "        \"firstname\": \"Adam\",\n",
    "        \"lastname\": \"Warlock\",\n",
    "        \"age\":25\n",
    "    }\n",
    ")\n",
    "\n",
    "Där \"_id\": blir nycklen till resterande värden men name kan vara likadant bara nycklen inte är det."
   ]
  },
  {
   "cell_type": "markdown",
   "metadata": {},
   "source": [
    "------------------------------------------------------------------------------------------------------------------------"
   ]
  },
  {
   "cell_type": "markdown",
   "metadata": {},
   "source": [
    "4. Beskriv kortfattat vad en dokumentdatabas är.\n",
    "\n",
    "Svar: Dokument-databas är likt nyckel-värde-databasen men skiljer sig på sättet att dokument databasen är smidigare men lite långsammare då man kan behöva mer komplexa frågor och filtreringar men det gör ju också att resultat blir mer precist\n",
    "\n",
    "t.ex\n",
    "\n",
    "[{ \"_id\": 2, \"name\": \"Otto\", \"age\": 45}, { \"name\": \"Gwen\", \"age\": 25, \"address\": \"Manhattan\"}]"
   ]
  },
  {
   "cell_type": "markdown",
   "metadata": {},
   "source": [
    "------------------------------------------------------------------------------------------------------------------------"
   ]
  },
  {
   "cell_type": "markdown",
   "metadata": {},
   "source": [
    "5. Beskriv kortfattat vad en bredkolumndatabas är.\n",
    "\n",
    "Svar: Bredkolumndatabas lagrar koulmner istället för rader vilket gör att den är enklare skalbar och effektiv för stora mängder skriv och läsintensiv data. Eftersom Bredkolumndatabas lagrar datn i rader sp kan varje rad har unika kolumner och dem i sig lagras i Kolumnfamiljer, dem liknar en tabell men är mer flexibel"
   ]
  },
  {
   "cell_type": "markdown",
   "metadata": {},
   "source": [
    "------------------------------------------------------------------------------------------------------------------------"
   ]
  },
  {
   "cell_type": "markdown",
   "metadata": {},
   "source": [
    "6. Beskriv kortfattat vad en grafdatabas är.\n",
    "\n",
    "Svar: Man får det bästa ur en grafdatabas när det gäller att lagra reltaioner eller rekomednationer t.ex en suplychain från punkt A till B till C osv. \n",
    "\n",
    "Sen är det också realtionerna som står i fokus och med det menar jag att när realtoinerna är viktigare än datan så är en graf-databas mycket användbar"
   ]
  },
  {
   "cell_type": "markdown",
   "metadata": {},
   "source": [
    "------------------------------------------------------------------------------------------------------------------------"
   ]
  },
  {
   "cell_type": "markdown",
   "metadata": {},
   "source": [
    "### Nyckel/värdedatabas"
   ]
  },
  {
   "cell_type": "markdown",
   "metadata": {},
   "source": [
    "Lägg till datan i filen kunskapskontroll_1/data/northwind/orders.csv i en Redis-databas."
   ]
  },
  {
   "cell_type": "code",
   "execution_count": null,
   "metadata": {},
   "outputs": [],
   "source": [
    "import redis\n",
    "import pandas as pd\n",
    "import json\n",
    "import qrcode\n",
    "\n",
    "PWD = open(\"Databastyper/Kunskapkontroll_1/Redis/redis.pwd\", \"r\").read().strip()\n",
    "r = redis.Redis(\"redis-15234.crce175.eu-north-1-1.ec2.redns.redis-cloud.com\", 15234, password=PWD, decode_responses=True)\n",
    "\n",
    "df = pd.read_csv(\"Databastyper\\Kunskapkontroll_1\\orders.csv\", index_col=False, encoding=\"utf\")\n",
    "df.head()\n",
    "\n",
    "df.index = pd.Index(pd.util.hash_pandas_object(df))\n",
    "df.head()\n",
    "\n",
    "#trying to locat the problem with converion from null vaulues\n",
    "print(df.isnull().sum())\n",
    "df.dropna(inplace=True) \n",
    "print(df.isnull().sum())\n",
    "r.ping\n",
    "\n",
    "data = json.loads(df.to_json(orient=\"index\",force_ascii=False))\n",
    "data\n",
    "\n",
    "for k, v in data.items():\n",
    "    r.hset(k, mapping=v)\n",
    "\n",
    "p = r.hgetall(list(data.keys())[5])\n",
    "\n",
    "qrcode.make(list(data.keys())[5])\n",
    "\n",
    "for idx in df.index:\n",
    "    qr = qrcode.make(idx)\n",
    "    qr.save(f\"Databastyper\\Kunskapkontroll_1\\Redis\\qr_codes{idx}.png\")"
   ]
  },
  {
   "cell_type": "markdown",
   "metadata": {},
   "source": [
    "Ge ett exempel på hur vad man kan använda Redis-databasen du skapat till:\n",
    "\n",
    "Svar: Till att börja med är det extremt smidigt att bara kunna skanna en QR-kod och få fram all data man annars hade behövt ställa queries för, vilket i sin tur hade tagit onödig tid. Dessutom är det, enligt min åsikt, stilrent att enkelt kunna ta fram en QR-kod med en titel och få fram all data kopplad till den"
   ]
  },
  {
   "cell_type": "markdown",
   "metadata": {},
   "source": [
    "### Dokumentdatabas"
   ]
  },
  {
   "cell_type": "markdown",
   "metadata": {},
   "source": [
    "I mappen kunskapskontroll_1/data/northwind/ finns filerna products.csv och suppliers.json.\n",
    "\n",
    "Slå ihop products.csv och suppliers.json på ett passande sätt och spara dem som en dokumentdatabas i MongoDB."
   ]
  },
  {
   "cell_type": "markdown",
   "metadata": {},
   "source": [
    "Godkänt\n",
    "Ta reda på:\n",
    "\n",
    "vilka produkter som behöver beställas (ReorderLevel > UnitsInStock + UnitsOnOrder)\n",
    "vem man ska kontakta för att beställa fler, och\n",
    "hur man kontaktar personen"
   ]
  },
  {
   "cell_type": "markdown",
   "metadata": {},
   "source": [
    "Väl godkänt\n",
    "Skapa en Streamlit-app som visar produkter som behöver beställas och talar om vem man ska ringa för att beställa fler. Appen kan vara en enkel lista över produkter, eller innehålla fler funktioner (QR-kod-scanner?)."
   ]
  },
  {
   "cell_type": "markdown",
   "metadata": {},
   "source": [
    "### Grafdatabas\n"
   ]
  },
  {
   "cell_type": "markdown",
   "metadata": {},
   "source": [
    "Godkänt\n",
    "Läs in csv-filerna i kunskapskontroll_1/data/movies/prepared/ i Neo4j och skapa en datamodell.\n",
    "Svara på frågorna och utför instruktionerna nedan. Klistra in dina svar som JSON eller bilder, beroende på om svaret är i data- eller graf-form.\n",
    "\n",
    "1. Vilka är de 10 vanligaste kombinationerna av genrer?\n",
    "\n",
    "2. Vilka är de fem vanligaste genrerna på filmer regisserade av Steven Spielberg, och hur många filmer är i de genrerna?\n",
    "\n",
    "3. Det verkar som om de har missat att Viggo Mortensen är med i Sagan om Ringen-filmerna. Skapa [:ACTED_IN]-relationer mellan Viggo och alla tre The Lord of the Rings-filmerna. Visa en graf med Viggo i mitten och relationer till de tre filmerna."
   ]
  },
  {
   "cell_type": "markdown",
   "metadata": {},
   "source": [
    "Väl godkänt\n",
    "Bearbeta datan i kunskapskontroll_1/data/movies/movies.json så att den passar till att läsas in i Neo4j. Processen ska gå att följa i kodceller i notebooken. Du får gärna titta på filerna i kunskapskontroll_1/data/movies/prepared/ för att få en idé om hur resultatet ska se ut.\n",
    "\n",
    "Läs in data in Neo4j.\n",
    "\n",
    "Svara på frågorna och utför instruktionerna nedan. Klistra in dina svar som JSON eller bilder, beroende på om svaret är i data- eller graf-form.\n",
    "\n",
    "1. Vilka är de 10 vanligaste kombinationerna av genrer?\n",
    "\n",
    "2. Vilka är de fem vanligaste genrerna på filmer regisserade av Steven Spielberg, och hur många filmer är i de genrerna?\n",
    "\n",
    "3. Det verkar som om de har missat att Viggo Mortensen är med i Sagan om Ringen-filmerna. Skapa [:ACTED_IN]-relationer mellan Viggo och alla tre The Lord of the Rings-filmerna. Visa en graf med Viggo i mitten och relationer till de tre filmerna.\n",
    "\n",
    "4. Hitta på minst en egen fråga och svara på den."
   ]
  },
  {
   "cell_type": "markdown",
   "metadata": {},
   "source": [
    "#### 1.\n",
    "\n",
    "MATCH (g:Genre)-[:HAS_GENRE]->(m:Movies)\n",
    "WITH m, collect(g.genres) AS genre_combination\n",
    "RETURN genre_combination, count(*) AS count\n",
    "ORDER BY count DESC LIMIT 10;\n",
    "\n",
    "[\n",
    "  {\n",
    "    \"genre_combination\": [\n",
    "      \"Thriller\"\n",
    "    ],\n",
    "    \"count\": 1316\n",
    "  },\n",
    "  {\n",
    "    \"genre_combination\": [\n",
    "      \"Romance\"\n",
    "    ],\n",
    "    \"count\": 843\n",
    "  },\n",
    "  {\n",
    "    \"genre_combination\": [\n",
    "      \"Drama\"\n",
    "    ],\n",
    "    \"count\": 630\n",
    "  },\n",
    "  {\n",
    "    \"genre_combination\": [\n",
    "      \"Sci-Fi\"\n",
    "    ],\n",
    "    \"count\": 339\n",
    "  },\n",
    "  {\n",
    "    \"genre_combination\": [\n",
    "      \"Comedy\"\n",
    "    ],\n",
    "    \"count\": 249\n",
    "  },\n",
    "  {\n",
    "    \"genre_combination\": [\n",
    "      \"Fantasy\"\n",
    "    ],\n",
    "    \"count\": 230\n",
    "  },\n",
    "  {\n",
    "    \"genre_combination\": [\n",
    "      \"War\"\n",
    "    ],\n",
    "    \"count\": 204\n",
    "  },\n",
    "  {\n",
    "    \"genre_combination\": [\n",
    "      \"Sport\"\n",
    "    ],\n",
    "    \"count\": 173\n",
    "  },\n",
    "  {\n",
    "    \"genre_combination\": [\n",
    "      \"Horror\"\n",
    "    ],\n",
    "    \"count\": 145\n",
    "  },\n",
    "  {\n",
    "    \"genre_combination\": [\n",
    "      \"Family\"\n",
    "    ],\n",
    "    \"count\": 145\n",
    "  }\n",
    "]"
   ]
  },
  {
   "cell_type": "markdown",
   "metadata": {},
   "source": [
    "#### 2. \n",
    "\n",
    "MATCH (g:Genre)-[:HAS_GENRE]->(m:Movies)\n",
    "WITH m, collect(g.genres) AS genre_combination\n",
    "WHERE m.director_name = \"Steven Spielberg\"\n",
    "RETURN genre_combination, count(*) AS count\n",
    "ORDER BY count DESC;\n",
    "\n",
    "[\n",
    "  {\n",
    "    \"genre_combination\": [\n",
    "      \"Thriller\"\n",
    "    ],\n",
    "    \"count\": 6\n",
    "  },\n",
    "  {\n",
    "    \"genre_combination\": [\n",
    "      \"Fantasy\"\n",
    "    ],\n",
    "    \"count\": 4\n",
    "  },\n",
    "  {\n",
    "    \"genre_combination\": [\n",
    "      \"Sci-Fi\"\n",
    "    ],\n",
    "    \"count\": 4\n",
    "  },\n",
    "  {\n",
    "    \"genre_combination\": [\n",
    "      \"War\"\n",
    "    ],\n",
    "    \"count\": 4\n",
    "  },\n",
    "  {\n",
    "    \"genre_combination\": [\n",
    "      \"Drama\"\n",
    "    ],\n",
    "    \"count\": 3\n",
    "  },\n",
    "  {\n",
    "    \"genre_combination\": [\n",
    "      \"History\"\n",
    "    ],\n",
    "    \"count\": 2\n",
    "  },\n",
    "  {\n",
    "    \"genre_combination\": [\n",
    "      \"Adventure\"\n",
    "    ],\n",
    "    \"count\": 2\n",
    "  },\n",
    "  {\n",
    "    \"genre_combination\": [\n",
    "      \"Mystery\"\n",
    "    ],\n",
    "    \"count\": 1\n",
    "  }\n",
    "]"
   ]
  },
  {
   "cell_type": "markdown",
   "metadata": {},
   "source": [
    "#### 3.\n",
    "\n",
    "MATCH (m:Movies) WHERE m.movie_title =~ \"The Lord of the Rings: The Fellowship of the Ring.\" OR m.movie_title =~ \"The Lord of the Rings: The Two Towers.\" OR m.movie_title =~ \"The Lord of the Rings: The Return of the King.*\" MERGE (a:Actors {actors: \"Viggo Mortensen\"}) MERGE (a)-[:ACTED_IN]->(m);\n",
    "\n"
   ]
  },
  {
   "cell_type": "markdown",
   "metadata": {},
   "source": [
    "#### 4.\n",
    "\n",
    "MATCH (d:Director)\n",
    "RETURN sum(d.duration) AS total_duration, d.director_name\n",
    "ORDER BY total_duration DESC\n",
    "\n",
    "[\n",
    "  {\n",
    "    \"total_duration\": 6209,\n",
    "    \"d.director_name\": null\n",
    "  },\n",
    "  {\n",
    "    \"total_duration\": 3571,\n",
    "    \"d.director_name\": \"Steven Spielberg\"\n",
    "  },\n",
    "  {\n",
    "    \"total_duration\": 2888,\n",
    "    \"d.director_name\": \"Martin Scorsese\"\n",
    "  },\n",
    "  {\n",
    "    \"total_duration\": 2608,\n",
    "    \"d.director_name\": \"Clint Eastwood\"\n",
    "  },\n",
    "  {\n",
    "    \"total_duration\": 2269,\n",
    "    \"d.director_name\": \"Ridley Scott\"\n",
    "  },\n",
    "  {\n",
    "    \"total_duration\": 2194,\n",
    "    \"d.director_name\": \"Woody Allen\"\n",
    "  },\n",
    "  {\n",
    "    \"total_duration\": 2078,\n",
    "    \"d.director_name\": \"Oliver Stone\"\n",
    "  },\n",
    "  {\n",
    "    \"total_duration\": 2051,\n",
    "    \"d.director_name\": \"Spike Lee\"\n",
    "  },\n",
    "  {\n",
    "    \"total_duration\": 1761,\n",
    "    \"d.director_name\": \"Michael Bay\"\n",
    "  },\n",
    "  {\n",
    "    \"total_duration\": 1725,\n",
    "    \"d.director_name\": \"Steven Soderbergh\"\n",
    "  }\n",
    "]"
   ]
  }
 ],
 "metadata": {
  "kernelspec": {
   "display_name": "base",
   "language": "python",
   "name": "python3"
  },
  "language_info": {
   "name": "python",
   "version": "3.12.7"
  }
 },
 "nbformat": 4,
 "nbformat_minor": 2
}
